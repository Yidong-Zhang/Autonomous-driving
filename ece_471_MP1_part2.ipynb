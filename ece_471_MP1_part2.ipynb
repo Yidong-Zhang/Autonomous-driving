{
 "cells": [
  {
   "cell_type": "markdown",
   "metadata": {},
   "source": [
    "# ECE 471 Fall 2024 Mini Project 1: Safety Analysis of Autonomous Vehicle"
   ]
  },
  {
   "cell_type": "markdown",
   "metadata": {},
   "source": [
    "## Imports"
   ]
  },
  {
   "cell_type": "code",
   "execution_count": 1,
   "metadata": {},
   "outputs": [],
   "source": [
    "import pandas as pd\n",
    "import numpy as np\n",
    "import scipy.stats as stats\n",
    "import networkx as nx\n",
    "\n",
    "import matplotlib.pyplot as plt"
   ]
  },
  {
   "cell_type": "code",
   "execution_count": 2,
   "metadata": {},
   "outputs": [],
   "source": [
    "df = pd.read_csv('mp1_av_disengagements.csv') # read the csv file"
   ]
  },
  {
   "cell_type": "code",
   "execution_count": 3,
   "metadata": {},
   "outputs": [
    {
     "data": {
      "text/html": [
       "<div>\n",
       "<style scoped>\n",
       "    .dataframe tbody tr th:only-of-type {\n",
       "        vertical-align: middle;\n",
       "    }\n",
       "\n",
       "    .dataframe tbody tr th {\n",
       "        vertical-align: top;\n",
       "    }\n",
       "\n",
       "    .dataframe thead th {\n",
       "        text-align: right;\n",
       "    }\n",
       "</style>\n",
       "<table border=\"1\" class=\"dataframe\">\n",
       "  <thead>\n",
       "    <tr style=\"text-align: right;\">\n",
       "      <th></th>\n",
       "      <th>Month</th>\n",
       "      <th>Car</th>\n",
       "      <th>Location</th>\n",
       "      <th>Weather</th>\n",
       "      <th>TypeOfTrigger</th>\n",
       "      <th>ReactionTime</th>\n",
       "      <th>Cause</th>\n",
       "    </tr>\n",
       "  </thead>\n",
       "  <tbody>\n",
       "    <tr>\n",
       "      <th>0</th>\n",
       "      <td>14-Sep</td>\n",
       "      <td>WDD2221851A001072</td>\n",
       "      <td>urban-street</td>\n",
       "      <td>cloudy</td>\n",
       "      <td>automatic</td>\n",
       "      <td>0.58</td>\n",
       "      <td>Incorrect Traffic Light Detection</td>\n",
       "    </tr>\n",
       "    <tr>\n",
       "      <th>1</th>\n",
       "      <td>14-Sep</td>\n",
       "      <td>WDD2221851A001072</td>\n",
       "      <td>urban-street</td>\n",
       "      <td>cloudy</td>\n",
       "      <td>automatic</td>\n",
       "      <td>0.66</td>\n",
       "      <td>Adverse road surface conditions</td>\n",
       "    </tr>\n",
       "    <tr>\n",
       "      <th>2</th>\n",
       "      <td>14-Sep</td>\n",
       "      <td>WDD2221851A001072</td>\n",
       "      <td>urban-street</td>\n",
       "      <td>cloudy</td>\n",
       "      <td>automatic</td>\n",
       "      <td>1.93</td>\n",
       "      <td>Position Estimation Failure</td>\n",
       "    </tr>\n",
       "    <tr>\n",
       "      <th>3</th>\n",
       "      <td>14-Sep</td>\n",
       "      <td>WDD2221851A001072</td>\n",
       "      <td>urban-street</td>\n",
       "      <td>cloudy</td>\n",
       "      <td>automatic</td>\n",
       "      <td>0.65</td>\n",
       "      <td>Emergency Vehicle</td>\n",
       "    </tr>\n",
       "    <tr>\n",
       "      <th>4</th>\n",
       "      <td>14-Sep</td>\n",
       "      <td>WDD2221851A001072</td>\n",
       "      <td>urban-street</td>\n",
       "      <td>cloudy</td>\n",
       "      <td>automatic</td>\n",
       "      <td>0.64</td>\n",
       "      <td>Adverse road surface conditions</td>\n",
       "    </tr>\n",
       "  </tbody>\n",
       "</table>\n",
       "</div>"
      ],
      "text/plain": [
       "    Month                Car      Location Weather TypeOfTrigger  \\\n",
       "0  14-Sep  WDD2221851A001072  urban-street  cloudy     automatic   \n",
       "1  14-Sep  WDD2221851A001072  urban-street  cloudy     automatic   \n",
       "2  14-Sep  WDD2221851A001072  urban-street  cloudy     automatic   \n",
       "3  14-Sep  WDD2221851A001072  urban-street  cloudy     automatic   \n",
       "4  14-Sep  WDD2221851A001072  urban-street  cloudy     automatic   \n",
       "\n",
       "   ReactionTime                              Cause  \n",
       "0          0.58  Incorrect Traffic Light Detection  \n",
       "1          0.66    Adverse road surface conditions  \n",
       "2          1.93        Position Estimation Failure  \n",
       "3          0.65                  Emergency Vehicle  \n",
       "4          0.64    Adverse road surface conditions  "
      ]
     },
     "execution_count": 3,
     "metadata": {},
     "output_type": "execute_result"
    }
   ],
   "source": [
    "df.head() # display the first few rows of the dataframe"
   ]
  },
  {
   "cell_type": "markdown",
   "metadata": {},
   "source": [
    "## Task 3 – Probabilistic Analysis of AV Disengagement"
   ]
  },
  {
   "cell_type": "markdown",
   "metadata": {},
   "source": [
    "### 3.1 Basic Probability"
   ]
  },
  {
   "cell_type": "markdown",
   "metadata": {},
   "source": [
    "#### a. The assumption of at most one disengagement per mile allows us to treat the occurrence of a disengagement in a mile as a random variable with a _______ distribution"
   ]
  },
  {
   "cell_type": "markdown",
   "metadata": {},
   "source": [
    "**Bernoulli** distribution"
   ]
  },
  {
   "cell_type": "markdown",
   "metadata": {},
   "source": [
    "#### b. Based on the above assumptions, calculate the probability of disengagement per mile on a cloudy day."
   ]
  },
  {
   "cell_type": "code",
   "execution_count": 4,
   "metadata": {},
   "outputs": [
    {
     "name": "stdout",
     "output_type": "stream",
     "text": [
      "The probability of disengagement per mile on a cloudy day is: 0.00590\n"
     ]
    }
   ],
   "source": [
    "prob_disengage_cloudy = (df['Weather'] == 'cloudy').sum() / (505229 * 0.28) # calculate the probability of disengagement per mile on a cloudy day\n",
    "print(f\"The probability of disengagement per mile on a cloudy day is: {prob_disengage_cloudy:.5f}\")"
   ]
  },
  {
   "cell_type": "markdown",
   "metadata": {},
   "source": [
    "#### c. Based on the above assumptions, calculate the probability of disengagement per mile on a clear day."
   ]
  },
  {
   "cell_type": "code",
   "execution_count": 5,
   "metadata": {},
   "outputs": [
    {
     "name": "stdout",
     "output_type": "stream",
     "text": [
      "The probability of disengagement per mile on a clear day is: 0.00052\n"
     ]
    }
   ],
   "source": [
    "prob_disengage_clear = (df['Weather'] == 'clear').sum() / (505229 * 0.72)  # calculate the probability of disengagement per mile on a clear day\n",
    "print(f\"The probability of disengagement per mile on a clear day is: {prob_disengage_clear:.5f}\")"
   ]
  },
  {
   "cell_type": "markdown",
   "metadata": {},
   "source": [
    "#### d. Similarly, calculate the probability of an automatic disengagement per mile on a cloudy day, and the probability of an automatic disengagement per mile on a clear day."
   ]
  },
  {
   "cell_type": "markdown",
   "metadata": {},
   "source": [
    "For *cloudy* day:"
   ]
  },
  {
   "cell_type": "code",
   "execution_count": 6,
   "metadata": {},
   "outputs": [
    {
     "name": "stdout",
     "output_type": "stream",
     "text": [
      "The probability of an automatic disengagement per mile on a cloudy day is: 0.00281\n"
     ]
    }
   ],
   "source": [
    "prob_disengage_cloudy_auto = df[(df['Weather'] == 'cloudy') & (df['TypeOfTrigger'] == 'automatic')].shape[0] / (505229 * 0.28) # calculate the probability of an automatic disengagement per mile on a cloudy day\n",
    "print(f\"The probability of an automatic disengagement per mile on a cloudy day is: {prob_disengage_cloudy_auto:.5f}\")"
   ]
  },
  {
   "cell_type": "markdown",
   "metadata": {},
   "source": [
    "For *clear* day:"
   ]
  },
  {
   "cell_type": "code",
   "execution_count": 7,
   "metadata": {},
   "outputs": [
    {
     "name": "stdout",
     "output_type": "stream",
     "text": [
      "The probability of an automatic disengagement per mile on a clear day is: 0.00026\n"
     ]
    }
   ],
   "source": [
    "prob_disengage_clear_auto = df[(df['Weather'] == 'clear') & (df['TypeOfTrigger'] == 'automatic')].shape[0] / (505229 * 0.72) # calculate the probability of an automatic disengagement per mile on a clear day\n",
    "print(f\"The probability of an automatic disengagement per mile on a clear day is: {prob_disengage_clear_auto:.5f}\")"
   ]
  },
  {
   "cell_type": "markdown",
   "metadata": {},
   "source": [
    "#### e. How likely is it that there are 100 or more disengagements in 10,000 miles under cloudy conditions?  (**hint**: use Central Limit Theorem)"
   ]
  },
  {
   "cell_type": "markdown",
   "metadata": {},
   "source": [
    "To find the likelihood of > 100 disengagements in 10,000 miles under cloudy conditions, we use central limit theorem to approximate the distribution of the number of disengagements over 10,000 miles as a normal distribution.\n",
    "\n",
    "In this case:\n",
    "- $\\mu = np$\n",
    "- $\\sigma = \\sqrt{np(1-p)}$"
   ]
  },
  {
   "cell_type": "code",
   "execution_count": 8,
   "metadata": {},
   "outputs": [
    {
     "name": "stdout",
     "output_type": "stream",
     "text": [
      "The likelihood of having 100 or more disengagements in 10000 miles under cloudy conditions is: 0.00000\n"
     ]
    }
   ],
   "source": [
    "n = 10000\n",
    "\n",
    "mu = n * prob_disengage_cloudy\n",
    "sigma = (n * prob_disengage_cloudy * (1 - prob_disengage_cloudy)) ** 0.5\n",
    "\n",
    "prob_100_more_disengage_cloudy = 1 - stats.norm.cdf(100, mu, sigma)\n",
    "print(f\"The likelihood of having 100 or more disengagements in 10000 miles under cloudy conditions is: {prob_100_more_disengage_cloudy:.5f}\")"
   ]
  },
  {
   "cell_type": "markdown",
   "metadata": {},
   "source": [
    "Therefore, from the calculation, we observe that having 100 or more disengagements in 10,000 miles under cloudy conditions is almost impossible."
   ]
  },
  {
   "cell_type": "markdown",
   "metadata": {},
   "source": [
    "### 3.2 Under the assumption in Task 3.1.a and given the weather condition is cloudy."
   ]
  },
  {
   "cell_type": "markdown",
   "metadata": {},
   "source": [
    "#### a. What is the distribution of “the number of miles until the next disengagement”? Explain your reasoning. Calculate and state the values of the parameters of the distribution. "
   ]
  },
  {
   "cell_type": "markdown",
   "metadata": {},
   "source": [
    "\"The number of miles until next disengagement\" will follow a **Geometric** distribution, since the geometric distribution models the number of trials (miles) to get the first success (disengagement)."
   ]
  },
  {
   "cell_type": "markdown",
   "metadata": {},
   "source": [
    "- The expectation $E(X)$ of a Geometric distribution is: $E(X)=\\frac{1}{p}$.\n",
    "- The variance $Var(X)$ of a Geometric distribution is: $Var(X) = \\frac{1-p}{p^2}$"
   ]
  },
  {
   "cell_type": "code",
   "execution_count": 9,
   "metadata": {},
   "outputs": [
    {
     "name": "stdout",
     "output_type": "stream",
     "text": [
      "The mean number of disengagements per mile on cloudy days is: 169.41811\n",
      "The variance of the number of disengagements per mile on cloudy days is: 28533.07714\n"
     ]
    }
   ],
   "source": [
    "geometric_mu = 1 / prob_disengage_cloudy\n",
    "geometric_var = (1 - prob_disengage_cloudy) / (prob_disengage_cloudy ** 2)\n",
    "\n",
    "print(f\"The mean number of disengagements per mile on cloudy days is: {geometric_mu:.5f}\")\n",
    "print(f\"The variance of the number of disengagements per mile on cloudy days is: {geometric_var:.5f}\")"
   ]
  },
  {
   "cell_type": "markdown",
   "metadata": {},
   "source": [
    "Therefore, denotes \"The number of miles until next disengagement\" as $X$, $X$ ~ $geom(p=0.0059)$. And it has mean $E(X)=169.418$, variance $Var(X)=28533.078$"
   ]
  },
  {
   "cell_type": "markdown",
   "metadata": {},
   "source": [
    "#### b. What is the distribution of “the number of disengagements in 10,000 miles”? (hint: this is equivalent to drawing n=10,000 independent trials from the distribution of disengagement per mile you calculated from Task 3.1.a). Calculate and state the values of the parameters of the distribution."
   ]
  },
  {
   "cell_type": "markdown",
   "metadata": {},
   "source": [
    "Binomial distribution. $n = 10000$, $p = 0.00590$\n",
    "\n",
    "The number of disengagements are $10000$, this means that there are $10000$ trials in this distribution, and each mile are independent, it has only two result: disengagement or no disengagement. According to these, this is Binomial distribution."
   ]
  },
  {
   "cell_type": "code",
   "execution_count": 10,
   "metadata": {},
   "outputs": [
    {
     "name": "stdout",
     "output_type": "stream",
     "text": [
      "The mean number of disengagements in 10000 miles on cloudy days is: 59.02557\n",
      "The variance of the number of disengagements in 10000 miles on cloudy days is: 58.67717\n"
     ]
    }
   ],
   "source": [
    "n = 10000\n",
    "\n",
    "binomial_mu = n * prob_disengage_cloudy\n",
    "binomial_var = n * prob_disengage_cloudy * (1 - prob_disengage_cloudy)\n",
    "\n",
    "print(f\"The mean number of disengagements in 10000 miles on cloudy days is: {binomial_mu:.5f}\")\n",
    "print(f\"The variance of the number of disengagements in 10000 miles on cloudy days is: {binomial_var:.5f}\")"
   ]
  },
  {
   "cell_type": "markdown",
   "metadata": {},
   "source": [
    "Therefore, denotes \"The number of disengagements are $10000$\" as $Y$, $Y$ ~ $binomial(n=10000, p=0.0059)$. And it has mean $E(Y)=59.03$, variance $Var(Y)=58.68$"
   ]
  },
  {
   "cell_type": "markdown",
   "metadata": {},
   "source": [
    "#### c. Notice that the number of disengagements \"$n$\" in Task 3.2.b is large while the probability of disengagement per mile \"$p$\" is very small, what distribution does your answer in Task 3.2.b approximate? Calculate and state the values of the parameters of the distribution."
   ]
  },
  {
   "cell_type": "markdown",
   "metadata": {},
   "source": [
    "The Binomial distribution we found in Task 3.2.b can be approximated by a **Poisson** distribution, since the Poisson distribution is often used as an approximation to the Binomial distribution under the condition that $n$ is large and $p$ is small. Also, in Homework 0, we have derived that as $n$ goes infinity, Poisson distribution can be derived from Binomial distribution.\n",
    "\n",
    "The parameter $\\lambda$ in this case, is $\\lambda = np = 10000 \\cdot 0.0059 \\approx 59$"
   ]
  },
  {
   "cell_type": "markdown",
   "metadata": {},
   "source": [
    "#### d. Plot the probability mass function (PMF) of the distribution in Task 3.2.b and Task 3.2.c for:\n"
   ]
  },
  {
   "cell_type": "code",
   "execution_count": 11,
   "metadata": {},
   "outputs": [],
   "source": [
    "n = 10000\n",
    "lambda_poisson = n * prob_disengage_cloudy\n",
    "\n",
    "x = np.arange(0, 10001)\n",
    "binom_pmf = stats.binom.pmf(x, n, prob_disengage_cloudy)\n",
    "poisson_pmf = stats.poisson.pmf(x, lambda_poisson)"
   ]
  },
  {
   "cell_type": "markdown",
   "metadata": {},
   "source": [
    "(1) The x-axis ranging between 0 and 10000:"
   ]
  },
  {
   "cell_type": "code",
   "execution_count": 12,
   "metadata": {},
   "outputs": [
    {
     "data": {
      "image/png": "[encoded data removed]",
      "text/plain": [
       "<Figure size 1500x1000 with 1 Axes>"
      ]
     },
     "metadata": {},
     "output_type": "display_data"
    }
   ],
   "source": [
    "plt.figure(figsize=(15, 10))\n",
    "plt.plot(x, binom_pmf, label='Binomial PMF', alpha=0.6)\n",
    "plt.plot(x, poisson_pmf, label='Poisson PMF', linestyle='dashed', alpha=0.6)\n",
    "plt.title('PMF of Binomial and Poisson Distributions (x-axis: 0 to 10000)')\n",
    "plt.xlabel('Number of Disengagements')\n",
    "plt.ylabel('Probability Mass Function (PMF)')\n",
    "plt.legend()\n",
    "plt.xlim(0, 10000)\n",
    "plt.show()"
   ]
  },
  {
   "cell_type": "markdown",
   "metadata": {},
   "source": [
    "(2)The x-axis ranging between 0 and 100"
   ]
  },
  {
   "cell_type": "code",
   "execution_count": 13,
   "metadata": {},
   "outputs": [
    {
     "data": {
      "image/png": "[encoded data removed]",
      "text/plain": [
       "<Figure size 1500x1000 with 1 Axes>"
      ]
     },
     "metadata": {},
     "output_type": "display_data"
    }
   ],
   "source": [
    "plt.figure(figsize=(15, 10))\n",
    "plt.plot(x, binom_pmf, label='Binomial PMF', alpha=0.6)\n",
    "plt.plot(x, poisson_pmf, label='Poisson PMF', linestyle='dashed', alpha=0.6)\n",
    "plt.title('PMF of Binomial and Poisson Distributions (x-axis: 0 to 100)')\n",
    "plt.xlabel('Number of Disengagements')\n",
    "plt.ylabel('Probability Mass Function (PMF)')\n",
    "plt.legend()\n",
    "plt.xlim(0, 100)\n",
    "plt.show()"
   ]
  },
  {
   "cell_type": "markdown",
   "metadata": {},
   "source": [
    "We find that the curves of pmf of Binomial distribution and poisson distributions in the second plot are overlapped, which confirms that the Poisson approximation is correct (What we suggested in Task 3.2.c) when the number of trials is large and the probability of success per trial is small. \n",
    "\n",
    "Also, the peak of both distributions around the mean (approximately 59) indicates that this is the most likely number of disengagements over 10000 miles in cloudy conditions."
   ]
  },
  {
   "cell_type": "markdown",
   "metadata": {},
   "source": [
    "#### e. Solve Task 3.1.e (How likely is it that there are 100 or more disengagements in 10,000 miles  under cloudy conditions? (hint: use Central Limit Theorem)) by using the cumulative distribution function (CDF) of the distribution you computed in Task 3.2.c and compare the results. Discuss your findings."
   ]
  },
  {
   "cell_type": "code",
   "execution_count": 14,
   "metadata": {},
   "outputs": [
    {
     "name": "stdout",
     "output_type": "stream",
     "text": [
      "The likelihood (using CDF of Poisson distribution) of having 100 or more disengagements in 10000 miles under cloudy conditions is: 4.308829278931725e-07\n"
     ]
    }
   ],
   "source": [
    "lambda_poisson = 10000 * prob_disengage_cloudy\n",
    "\n",
    "prob_100_more_disengage_cloudy_poisson = 1 - stats.poisson.cdf(100, lambda_poisson)\n",
    "print(f\"The likelihood (using CDF of Poisson distribution) of having 100 or more disengagements in 10000 miles under cloudy conditions is: {prob_100_more_disengage_cloudy_poisson}\")"
   ]
  },
  {
   "cell_type": "markdown",
   "metadata": {},
   "source": [
    "Both methods yield very low probabilities, indicating that having 100 or more disengagements in 10,000 miles is extremely unlikely."
   ]
  },
  {
   "cell_type": "markdown",
   "metadata": {},
   "source": [
    "### 3.3 Reaction Time Analysis"
   ]
  },
  {
   "cell_type": "markdown",
   "metadata": {},
   "source": [
    "#### a. Greater than 0.4s given that the weather was cloudy? Reaction time is measured only in cases where there was an automatic disengagement."
   ]
  },
  {
   "cell_type": "code",
   "execution_count": 15,
   "metadata": {},
   "outputs": [
    {
     "name": "stdout",
     "output_type": "stream",
     "text": [
      "The probability of disengagement when the reaction time is greater than 0.4 seconds on cloudy days is: 0.61209\n"
     ]
    }
   ],
   "source": [
    "df_cloudy_auto = df[(df['Weather'] == 'cloudy') & (df['TypeOfTrigger'] == 'automatic')]\n",
    "\n",
    "# Calculate the reaction time larger than 0.4\n",
    "count = df_cloudy_auto[df_cloudy_auto['ReactionTime'] > 0.4].shape[0]\n",
    "\n",
    "total_count = df_cloudy_auto.shape[0]\n",
    "prob = count/total_count\n",
    "print(f\"The probability of disengagement when the reaction time is greater than 0.4 seconds on cloudy days is: {prob:.5f}\")"
   ]
  },
  {
   "cell_type": "markdown",
   "metadata": {},
   "source": [
    "According to the result, the conditional probability of reaction time greater than 0.4s given that the weather was cloudy is 0.61209"
   ]
  },
  {
   "cell_type": "markdown",
   "metadata": {},
   "source": [
    "#### b. Greater than 0.7s given that the weather was clear? Reaction time is measured only in cases where there was an automatic disengagement."
   ]
  },
  {
   "cell_type": "code",
   "execution_count": 16,
   "metadata": {},
   "outputs": [
    {
     "name": "stdout",
     "output_type": "stream",
     "text": [
      "The probability of disengagement when the reaction time is greater than 0.7 seconds on clear days is: 0.38542\n"
     ]
    }
   ],
   "source": [
    "df_clear_auto = df[(df['Weather'] == 'clear') & (df['TypeOfTrigger'] == 'automatic')]\n",
    "\n",
    "# Calculate the reaction time larger than 0.7\n",
    "count = df_clear_auto[df_clear_auto['ReactionTime'] > 0.7].shape[0]\n",
    "\n",
    "total_count = df_clear_auto.shape[0]\n",
    "prob = count/total_count\n",
    "print(f\"The probability of disengagement when the reaction time is greater than 0.7 seconds on clear days is: {prob:.5f}\")"
   ]
  },
  {
   "cell_type": "markdown",
   "metadata": {},
   "source": [
    "According to the result, the conditional probability of reaction time greater than 0.7s given that the weather was clear is 0.38542"
   ]
  },
  {
   "cell_type": "markdown",
   "metadata": {},
   "source": [
    "### 3.4 A study found that an automatic AV disengagement will result in an accident if the human driver is slow in reacting. Following reactions are considered slow: (i) a reaction time greater than 0.4s under cloudy conditions and, (ii) a reaction time greater than 0.7s under clear conditions. Find the probability of an accident per mile due to automatic AV disengagement and slow reaction"
   ]
  },
  {
   "cell_type": "markdown",
   "metadata": {},
   "source": [
    "According to the Task.3.1.d and Task.3.3, we get the following results:\n",
    "\n",
    "- prob_disengage_cloudy_auto = 0.00281\n",
    "\n",
    "- prob_disengage_clear_auto = 0.00026\n",
    "\n",
    "- prob_slow_cloudy = 0.612\n",
    "\n",
    "- prob_slow_clear = 0.385\n",
    "\n",
    "- prob_cloudy = 0.28\n",
    "\n",
    "- prob_clear =  0.72\n",
    "\n",
    "\n",
    "We will use these data to find the probability of an accident per mile due to automatic AV disengagement and slow reaction"
   ]
  },
  {
   "cell_type": "code",
   "execution_count": 17,
   "metadata": {},
   "outputs": [
    {
     "data": {
      "text/plain": [
       "0.0005535936"
      ]
     },
     "execution_count": 17,
     "metadata": {},
     "output_type": "execute_result"
    }
   ],
   "source": [
    "prob_disengage_cloudy_auto = 0.00281\n",
    "prob_disengage_clear_auto = 0.00026\n",
    "prob_slow_cloudy = 0.612\n",
    "prob_slow_clear = 0.385\n",
    "\n",
    "\n",
    "prob_accident_per_mile_cloudy = prob_disengage_cloudy_auto * prob_slow_cloudy \n",
    "prob_accident_per_mile_clear = prob_disengage_clear_auto * prob_slow_clear\n",
    "\n",
    "prob_accident_per_mile = (prob_accident_per_mile_cloudy * 0.28) + (prob_accident_per_mile_clear * 0.72)\n",
    "prob_accident_per_mile"
   ]
  },
  {
   "cell_type": "markdown",
   "metadata": {},
   "source": [
    "### 3.5 Next, you will investigate how to diagnose the cause of an AV disengagement based on new observations"
   ]
  },
  {
   "cell_type": "markdown",
   "metadata": {},
   "source": [
    "#### a. An AV had a disengagement with a reaction time greater than 0.4s on a cloudy day. What is the posterior probability that the root cause of the disengagement was “Software Froze”?"
   ]
  },
  {
   "cell_type": "markdown",
   "metadata": {},
   "source": [
    "By the Bayes' Theorem:\n",
    "\n",
    "$P(\\text{Software Froze | Reaction Time > 0.4s and Cloudy}) = \\frac{P(\\text{Reaction Time > 0.4s and Cloudy | Software Froze}) \\cdot P(\\text{Software Froze})}{P(\\text{Reaction Time > 0.4s and Cloudy})}$"
   ]
  },
  {
   "cell_type": "code",
   "execution_count": 18,
   "metadata": {},
   "outputs": [
    {
     "name": "stdout",
     "output_type": "stream",
     "text": [
      "The probability that the cause of disengagement is software frozed given that the reaction time is greater than 0.4 seconds on a cloudy day is: 0.11110\n"
     ]
    }
   ],
   "source": [
    "df_auto_disengage = df[df['TypeOfTrigger'] == 'automatic'] \n",
    "\n",
    "P_softwareforze = df_auto_disengage[df_auto_disengage['Cause'] == 'Software Froze'].shape[0] / df_auto_disengage.shape[0]\n",
    "\n",
    "df_auto_disengage_cloudy_softwarefroze = df_auto_disengage[(df_auto_disengage['Weather'] == 'cloudy') & (df_auto_disengage['Cause'] == 'Software Froze')]\n",
    "\n",
    "P_reaction_gt_04_cloudy_softwareforze = df_auto_disengage_cloudy_softwarefroze[df_auto_disengage_cloudy_softwarefroze['ReactionTime'] > 0.4].shape[0] / df_auto_disengage_cloudy_softwarefroze.shape[0]\n",
    "\n",
    "P_reation_gt_04_cloudy = df_auto_disengage[(df_auto_disengage['Weather'] == 'cloudy') & (df_auto_disengage['ReactionTime'] > 0.4)].shape[0] / df_auto_disengage[df_auto_disengage['Weather'] == 'cloudy'].shape[0]\n",
    "\n",
    "P_softwareforze_reaction_gt_04_cloudy = P_reaction_gt_04_cloudy_softwareforze * P_softwareforze / P_reation_gt_04_cloudy\n",
    "print(f\"The probability that the cause of disengagement is software frozed given that the reaction time is greater than 0.4 seconds on a cloudy day is: {P_softwareforze_reaction_gt_04_cloudy:.5f}\")"
   ]
  },
  {
   "cell_type": "markdown",
   "metadata": {},
   "source": [
    "#### b. What is the posterior probability that the root cause of the disengagement was “Software Froze\" if the disengagement happened on a clear day with reaction time greater than 0.7s. Based on the probabilities calculated in Tasks 3.5.a and 3.5.b, discuss your findings. "
   ]
  },
  {
   "cell_type": "markdown",
   "metadata": {},
   "source": [
    "By the Bayes' Theorem:\n",
    "\n",
    "$P(\\text{Software Froze | Reaction Time > 0.7s and Clear}) = \\frac{P(\\text{Reaction Time > 0.7s and Clear | Software Froze}) \\cdot P(\\text{Software Froze})}{P(\\text{Reaction Time > 0.7s and Clear})}$"
   ]
  },
  {
   "cell_type": "code",
   "execution_count": 19,
   "metadata": {},
   "outputs": [
    {
     "name": "stdout",
     "output_type": "stream",
     "text": [
      "The probability that the cause of disengagement is software frozed given that the reaction time is greater than 0.7 seconds on a clear day is: 0.07736\n"
     ]
    }
   ],
   "source": [
    "df_auto_disengage = df[df['TypeOfTrigger'] == 'automatic']\n",
    "\n",
    "P_softwareforze = df_auto_disengage[df_auto_disengage['Cause'] == 'Software Froze'].shape[0] / df_auto_disengage.shape[0]\n",
    "\n",
    "df_auto_disengage_clear_softwarefroze = df_auto_disengage[(df_auto_disengage['Weather'] == 'clear') & (df_auto_disengage['Cause'] == 'Software Froze')]\n",
    "\n",
    "P_reaction_gt_07_clear_softwareforze = df_auto_disengage_clear_softwarefroze[df_auto_disengage_clear_softwarefroze['ReactionTime'] > 0.7].shape[0] / df_auto_disengage_clear_softwarefroze.shape[0]\n",
    "\n",
    "P_reation_gt_07_clear = df_auto_disengage[(df_auto_disengage['Weather'] == 'clear') & (df_auto_disengage['ReactionTime'] > 0.7)].shape[0] / df_auto_disengage[df_auto_disengage['Weather'] == 'clear'].shape[0]\n",
    "\n",
    "P_softwareforze_reaction_gt_07_clear = P_reaction_gt_07_clear_softwareforze * P_softwareforze / P_reation_gt_07_clear\n",
    "print(f\"The probability that the cause of disengagement is software frozed given that the reaction time is greater than 0.7 seconds on a clear day is: {P_softwareforze_reaction_gt_07_clear:.5f}\")"
   ]
  },
  {
   "cell_type": "markdown",
   "metadata": {},
   "source": [
    "For a cloudy day with reaction time > 0.4s, the posterior probability that the cause was \"Software Froze\" was about 11.11%. However, a clear day with reaction time > 0.7s, this probability is lower at 7.74%. This suggests that \"Software Froze\" is relatively more likely to be the cause of disengagements under cloudy conditions than under clear conditions, even when accounting for longer reaction times."
   ]
  },
  {
   "cell_type": "markdown",
   "metadata": {},
   "source": [
    "### 6. In this question, you will construct a Naive Bayes model to infer the root cause of disengagement scenarios of AVs. Naive Bayes assumes that the factors are class conditionally independent. We assume that both Location (urban-street or highway) and Weather (cloudy or clear) are factors related to the Cause (consider the Cause has 3 different values, “Software Froze”, “Hardware Fault” or “Other”), and Location and Weather are independent given the Cause. Answer the following questions:"
   ]
  },
  {
   "cell_type": "markdown",
   "metadata": {},
   "source": [
    "#### a. Draw a graph for the Naive Bayes model described in the question."
   ]
  },
  {
   "cell_type": "code",
   "execution_count": 20,
   "metadata": {},
   "outputs": [
    {
     "data": {
      "image/png": "[encoded data removed]",
      "text/plain": [
       "<Figure size 400x300 with 1 Axes>"
      ]
     },
     "metadata": {},
     "output_type": "display_data"
    }
   ],
   "source": [
    "G = nx.DiGraph()\n",
    "\n",
    "# Define states and transitions\n",
    "edges = [('Cause', 'Location', ''), \n",
    "         ('Cause', 'Weather', '')]\n",
    "# Add edges to the graph\n",
    "for src, dest, label in edges:\n",
    "    G.add_edge(src, dest, label=label)\n",
    "\n",
    "# Set positions for the graph nodes\n",
    "pos = {\n",
    "    'Cause': (5, 10),\n",
    "    'Location': (1, 5),\n",
    "    'Weather': (10, 5)\n",
    "}\n",
    "\n",
    "# Draw the graph\n",
    "plt.figure(figsize=(4,3))\n",
    "nx.draw(G, pos, with_labels=True, node_size=2000, node_color='lightblue', arrowsize=20)\n",
    "\n",
    "# Draw edge labels\n",
    "edge_labels = {(src, dest): label for src, dest, label in edges}\n",
    "nx.draw_networkx_edge_labels(G, pos, edge_labels=edge_labels, font_color='red')\n",
    "\n",
    "plt.title('Naive Bayes Model')\n",
    "plt.show()"
   ]
  },
  {
   "cell_type": "markdown",
   "metadata": {},
   "source": [
    "#### b. Count the number of parameters needed to define the Naive Bayes model (including the prior and the conditional probability distributions)."
   ]
  },
  {
   "cell_type": "markdown",
   "metadata": {},
   "source": [
    "##### (1) Prior Probabilities for the Cause"
   ]
  },
  {
   "cell_type": "markdown",
   "metadata": {},
   "source": [
    "Cause has 3 different values: \"Software Froze\", \"Hardware Fault\" and \"Other\"\n",
    "\n",
    "So the probabilities are P(Cause = Software Froze), P(Cause = Hardware Fault), P(Cause = Other)\n",
    "\n",
    "Since P(Software Froze) + P(Hardware Fault) + P(Other) = 1, so we need 2 parameters to define these priors."
   ]
  },
  {
   "cell_type": "markdown",
   "metadata": {},
   "source": [
    "##### (2) Conditional Probabilities for Location given Cause"
   ]
  },
  {
   "cell_type": "markdown",
   "metadata": {},
   "source": [
    "Location has 2 different values: \"urban-street\" and \"highway\"\n",
    "\n",
    "So the probabilities are P(Location = urban-street ∣ Cause = c),P(Location = highway ∣ Cause = c)\n",
    "\n",
    "Therefore, we need 1 parameter for P(Location = urban-street ∣ Cause = Hardware Fault)\n",
    "\n",
    "1 parameter for P(Location = urban-street ∣ Cause = Software Froze)\n",
    "\n",
    "1 parameter for P(Location = urban-street ∣ Cause = Other)\n",
    "\n",
    "Since the probability P(Location = highway ∣ Cause = c) is depend on the probability P(Location = urban-street ∣ Cause = c), so we need 3 parameters."
   ]
  },
  {
   "cell_type": "markdown",
   "metadata": {},
   "source": [
    "##### (3) Conditional Probabilities for Weather given Cause"
   ]
  },
  {
   "cell_type": "markdown",
   "metadata": {},
   "source": [
    "Weather has 2 different values: \"cloudy\" and \"clear\"\n",
    "\n",
    "So the probabilities are P(Weather = cloudy ∣ Cause = c),P(Weather = clear ∣ Cause = c)\n",
    "\n",
    "Therefore, we need 1 parameter for P(Weather = cloudy ∣ Cause = Hardware Fault)\n",
    "\n",
    "1 parameter for P(Weather = cloudy ∣ Cause = Software Froze)\n",
    "\n",
    "1 parameter for P(Weather = cloudy ∣ Cause = Other)\n",
    "\n",
    "Since the probability P(Weather = cloudy ∣ Cause = c) is depend on the probability P(Weather = clear ∣ Cause = c), so we need 3 parameters."
   ]
  },
  {
   "cell_type": "markdown",
   "metadata": {},
   "source": [
    "**Above all, we totally need 2 + 3 + 3 = 8 parameters.**"
   ]
  },
  {
   "cell_type": "markdown",
   "metadata": {},
   "source": [
    "#### c. Based on the number of parameters needed, derive, and show the conditional probability tables and prior probability from the given dataset to infer the Cause."
   ]
  },
  {
   "cell_type": "markdown",
   "metadata": {},
   "source": [
    "For Prior Probabilities:"
   ]
  },
  {
   "cell_type": "code",
   "execution_count": 21,
   "metadata": {},
   "outputs": [
    {
     "data": {
      "text/html": [
       "<div>\n",
       "<style scoped>\n",
       "    .dataframe tbody tr th:only-of-type {\n",
       "        vertical-align: middle;\n",
       "    }\n",
       "\n",
       "    .dataframe tbody tr th {\n",
       "        vertical-align: top;\n",
       "    }\n",
       "\n",
       "    .dataframe thead th {\n",
       "        text-align: right;\n",
       "    }\n",
       "</style>\n",
       "<table border=\"1\" class=\"dataframe\">\n",
       "  <thead>\n",
       "    <tr style=\"text-align: right;\">\n",
       "      <th></th>\n",
       "      <th>Cause</th>\n",
       "      <th>#</th>\n",
       "      <th>P(Cause)</th>\n",
       "    </tr>\n",
       "  </thead>\n",
       "  <tbody>\n",
       "    <tr>\n",
       "      <th>0</th>\n",
       "      <td>Other</td>\n",
       "      <td>822</td>\n",
       "      <td>0.802734</td>\n",
       "    </tr>\n",
       "    <tr>\n",
       "      <th>1</th>\n",
       "      <td>Software Froze</td>\n",
       "      <td>104</td>\n",
       "      <td>0.101562</td>\n",
       "    </tr>\n",
       "    <tr>\n",
       "      <th>2</th>\n",
       "      <td>Hardware Fault</td>\n",
       "      <td>98</td>\n",
       "      <td>0.095703</td>\n",
       "    </tr>\n",
       "  </tbody>\n",
       "</table>\n",
       "</div>"
      ],
      "text/plain": [
       "            Cause    #  P(Cause)\n",
       "0           Other  822  0.802734\n",
       "1  Software Froze  104  0.101562\n",
       "2  Hardware Fault   98  0.095703"
      ]
     },
     "execution_count": 21,
     "metadata": {},
     "output_type": "execute_result"
    }
   ],
   "source": [
    "df['Cause'] = df['Cause'].apply(lambda x: x if x in ['Software Froze', 'Hardware Fault'] else 'Other')\n",
    "cause = df['Cause'].unique().tolist()\n",
    "counts = df['Cause'].value_counts().tolist()\n",
    "prob = [count/df.shape[0] for count in counts]\n",
    "\n",
    "prior_probabilities = pd.DataFrame({\n",
    "    'Cause': cause,\n",
    "    '#': counts,\n",
    "    'P(Cause)': prob\n",
    "})\n",
    "\n",
    "prior_probabilities"
   ]
  },
  {
   "cell_type": "markdown",
   "metadata": {},
   "source": [
    "For the conditional probability P(Location|cause):"
   ]
  },
  {
   "cell_type": "code",
   "execution_count": 22,
   "metadata": {},
   "outputs": [
    {
     "data": {
      "text/html": [
       "<div>\n",
       "<style scoped>\n",
       "    .dataframe tbody tr th:only-of-type {\n",
       "        vertical-align: middle;\n",
       "    }\n",
       "\n",
       "    .dataframe tbody tr th {\n",
       "        vertical-align: top;\n",
       "    }\n",
       "\n",
       "    .dataframe thead th {\n",
       "        text-align: right;\n",
       "    }\n",
       "</style>\n",
       "<table border=\"1\" class=\"dataframe\">\n",
       "  <thead>\n",
       "    <tr style=\"text-align: right;\">\n",
       "      <th></th>\n",
       "      <th>Location</th>\n",
       "      <th>Cause</th>\n",
       "      <th>#</th>\n",
       "      <th>P(Location | Cause)</th>\n",
       "    </tr>\n",
       "  </thead>\n",
       "  <tbody>\n",
       "    <tr>\n",
       "      <th>0</th>\n",
       "      <td>highway</td>\n",
       "      <td>Hardware Fault</td>\n",
       "      <td>9</td>\n",
       "      <td>0.086538</td>\n",
       "    </tr>\n",
       "    <tr>\n",
       "      <th>1</th>\n",
       "      <td>highway</td>\n",
       "      <td>Other</td>\n",
       "      <td>5</td>\n",
       "      <td>0.006083</td>\n",
       "    </tr>\n",
       "    <tr>\n",
       "      <th>2</th>\n",
       "      <td>highway</td>\n",
       "      <td>Software Froze</td>\n",
       "      <td>6</td>\n",
       "      <td>0.061224</td>\n",
       "    </tr>\n",
       "    <tr>\n",
       "      <th>3</th>\n",
       "      <td>urban-street</td>\n",
       "      <td>Hardware Fault</td>\n",
       "      <td>95</td>\n",
       "      <td>0.913462</td>\n",
       "    </tr>\n",
       "    <tr>\n",
       "      <th>4</th>\n",
       "      <td>urban-street</td>\n",
       "      <td>Other</td>\n",
       "      <td>817</td>\n",
       "      <td>0.993917</td>\n",
       "    </tr>\n",
       "    <tr>\n",
       "      <th>5</th>\n",
       "      <td>urban-street</td>\n",
       "      <td>Software Froze</td>\n",
       "      <td>92</td>\n",
       "      <td>0.938776</td>\n",
       "    </tr>\n",
       "  </tbody>\n",
       "</table>\n",
       "</div>"
      ],
      "text/plain": [
       "       Location           Cause    #  P(Location | Cause)\n",
       "0       highway  Hardware Fault    9             0.086538\n",
       "1       highway           Other    5             0.006083\n",
       "2       highway  Software Froze    6             0.061224\n",
       "3  urban-street  Hardware Fault   95             0.913462\n",
       "4  urban-street           Other  817             0.993917\n",
       "5  urban-street  Software Froze   92             0.938776"
      ]
     },
     "execution_count": 22,
     "metadata": {},
     "output_type": "execute_result"
    }
   ],
   "source": [
    "df_location_cause_counts = df.groupby(['Location', 'Cause']).size().reset_index(name='#')\n",
    "\n",
    "total_counts_per_cause = df['Cause'].value_counts()\n",
    "df_location_cause_counts['P(Location | Cause)'] = df_location_cause_counts.apply(\n",
    "    lambda row: row['#'] / total_counts_per_cause[row['Cause']], axis=1\n",
    ")\n",
    "df_location_cause_counts"
   ]
  },
  {
   "cell_type": "markdown",
   "metadata": {},
   "source": [
    "For the conditional probability P(Location|cause):"
   ]
  },
  {
   "cell_type": "code",
   "execution_count": 23,
   "metadata": {},
   "outputs": [
    {
     "data": {
      "text/html": [
       "<div>\n",
       "<style scoped>\n",
       "    .dataframe tbody tr th:only-of-type {\n",
       "        vertical-align: middle;\n",
       "    }\n",
       "\n",
       "    .dataframe tbody tr th {\n",
       "        vertical-align: top;\n",
       "    }\n",
       "\n",
       "    .dataframe thead th {\n",
       "        text-align: right;\n",
       "    }\n",
       "</style>\n",
       "<table border=\"1\" class=\"dataframe\">\n",
       "  <thead>\n",
       "    <tr style=\"text-align: right;\">\n",
       "      <th></th>\n",
       "      <th>Weather</th>\n",
       "      <th>Cause</th>\n",
       "      <th>#</th>\n",
       "      <th>P( Weather | Cause)</th>\n",
       "    </tr>\n",
       "  </thead>\n",
       "  <tbody>\n",
       "    <tr>\n",
       "      <th>0</th>\n",
       "      <td>clear</td>\n",
       "      <td>Hardware Fault</td>\n",
       "      <td>58</td>\n",
       "      <td>0.557692</td>\n",
       "    </tr>\n",
       "    <tr>\n",
       "      <th>1</th>\n",
       "      <td>clear</td>\n",
       "      <td>Other</td>\n",
       "      <td>71</td>\n",
       "      <td>0.086375</td>\n",
       "    </tr>\n",
       "    <tr>\n",
       "      <th>2</th>\n",
       "      <td>clear</td>\n",
       "      <td>Software Froze</td>\n",
       "      <td>60</td>\n",
       "      <td>0.612245</td>\n",
       "    </tr>\n",
       "    <tr>\n",
       "      <th>3</th>\n",
       "      <td>cloudy</td>\n",
       "      <td>Hardware Fault</td>\n",
       "      <td>46</td>\n",
       "      <td>0.442308</td>\n",
       "    </tr>\n",
       "    <tr>\n",
       "      <th>4</th>\n",
       "      <td>cloudy</td>\n",
       "      <td>Other</td>\n",
       "      <td>751</td>\n",
       "      <td>0.913625</td>\n",
       "    </tr>\n",
       "    <tr>\n",
       "      <th>5</th>\n",
       "      <td>cloudy</td>\n",
       "      <td>Software Froze</td>\n",
       "      <td>38</td>\n",
       "      <td>0.387755</td>\n",
       "    </tr>\n",
       "  </tbody>\n",
       "</table>\n",
       "</div>"
      ],
      "text/plain": [
       "  Weather           Cause    #  P( Weather | Cause)\n",
       "0   clear  Hardware Fault   58             0.557692\n",
       "1   clear           Other   71             0.086375\n",
       "2   clear  Software Froze   60             0.612245\n",
       "3  cloudy  Hardware Fault   46             0.442308\n",
       "4  cloudy           Other  751             0.913625\n",
       "5  cloudy  Software Froze   38             0.387755"
      ]
     },
     "execution_count": 23,
     "metadata": {},
     "output_type": "execute_result"
    }
   ],
   "source": [
    "df_weather_cause_counts = df.groupby(['Weather', 'Cause']).size().reset_index(name='#')\n",
    "\n",
    "total_counts_per_cause = df['Cause'].value_counts()\n",
    "df_weather_cause_counts['P( Weather | Cause)'] = df_weather_cause_counts.apply(\n",
    "    lambda row: row['#'] / total_counts_per_cause[row['Cause']], axis=1\n",
    ")\n",
    "df_weather_cause_counts"
   ]
  },
  {
   "cell_type": "markdown",
   "metadata": {},
   "source": [
    "#### d. According to the conditional probability tables you derived, what is the most probable root cause of disengagement given the Weather was cloudy and the Location was urban-street."
   ]
  },
  {
   "cell_type": "markdown",
   "metadata": {},
   "source": [
    "By Baye's Theorem:\n",
    "\n",
    "$P(Cause|Weather, Location) \\propto P(Cause) P(Weather|Cause) P(Location|Cause)$"
   ]
  },
  {
   "cell_type": "markdown",
   "metadata": {},
   "source": [
    "Given the weather is cloudy and location is urban-street:\n",
    "\n",
    "- For Cause is Hardware Fault:\n",
    "\n",
    "$P(HF|cloudy, u-s) \\propto P(HF) P(cloudy|HF) P(u-s|HF) = 0.096 \\cdot 0.442 \\cdot 0.913 \\approx 0.0387$\n",
    "\n",
    "- For Cause is Software Froze:\n",
    "\n",
    "$P(SF|cloudy, u-s) \\propto P(SF) P(cloudy|SF) P(u-s|SF) = 0.102 \\cdot 0.388 \\cdot 0.94 \\approx 0.0372$\n",
    "\n",
    "- For Cause is Other:\n",
    "\n",
    "$P(Other|cloudy, u-s) \\propto P(Other) P(cloudy|Other) P(u-s|Other) = 0.803 \\cdot 0.914 \\cdot 0.994 \\approx 0.73$"
   ]
  },
  {
   "cell_type": "markdown",
   "metadata": {},
   "source": [
    "Therefore, the most probable root cause of disengagement given that the Weather was \"cloudy\" and the Location was \"urban-street\" is \"Other,\" since it has the highest probability."
   ]
  },
  {
   "cell_type": "markdown",
   "metadata": {},
   "source": []
  }
 ],
 "metadata": {
  "kernelspec": {
   "display_name": "ece_471",
   "language": "python",
   "name": "python3"
  },
  "language_info": {
   "codemirror_mode": {
    "name": "ipython",
    "version": 3
   },
   "file_extension": ".py",
   "mimetype": "text/x-python",
   "name": "python",
   "nbconvert_exporter": "python",
   "pygments_lexer": "ipython3",
   "version": "3.6.8"
  }
 },
 "nbformat": 4,
 "nbformat_minor": 2
}
