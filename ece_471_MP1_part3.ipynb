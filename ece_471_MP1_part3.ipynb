{
 "cells": [
  {
   "cell_type": "markdown",
   "metadata": {},
   "source": [
    "# ECE 471 Fall 2024 Mini Project 1: Safety Analysis of Autonomous Vehicle"
   ]
  },
  {
   "cell_type": "markdown",
   "metadata": {},
   "source": [
    "## Imports"
   ]
  },
  {
   "cell_type": "code",
   "execution_count": 1,
   "metadata": {},
   "outputs": [],
   "source": [
    "import pandas as pd\n",
    "import numpy as np\n",
    "\n",
    "import matplotlib.pyplot as plt"
   ]
  },
  {
   "cell_type": "code",
   "execution_count": 2,
   "metadata": {},
   "outputs": [],
   "source": [
    "df = pd.read_csv('mp1_part3_data_2024.csv') # read the csv file"
   ]
  },
  {
   "cell_type": "markdown",
   "metadata": {},
   "source": [
    "## Read Dataset"
   ]
  },
  {
   "cell_type": "code",
   "execution_count": 3,
   "metadata": {},
   "outputs": [
    {
     "data": {
      "text/html": [
       "<div>\n",
       "<style scoped>\n",
       "    .dataframe tbody tr th:only-of-type {\n",
       "        vertical-align: middle;\n",
       "    }\n",
       "\n",
       "    .dataframe tbody tr th {\n",
       "        vertical-align: top;\n",
       "    }\n",
       "\n",
       "    .dataframe thead th {\n",
       "        text-align: right;\n",
       "    }\n",
       "</style>\n",
       "<table border=\"1\" class=\"dataframe\">\n",
       "  <thead>\n",
       "    <tr style=\"text-align: right;\">\n",
       "      <th></th>\n",
       "      <th>Unnamed: 0</th>\n",
       "      <th>weather</th>\n",
       "      <th>scenario</th>\n",
       "      <th>status</th>\n",
       "    </tr>\n",
       "  </thead>\n",
       "  <tbody>\n",
       "    <tr>\n",
       "      <th>0</th>\n",
       "      <td>0</td>\n",
       "      <td>clear</td>\n",
       "      <td>ghost_cutin</td>\n",
       "      <td>Completed</td>\n",
       "    </tr>\n",
       "    <tr>\n",
       "      <th>1</th>\n",
       "      <td>1</td>\n",
       "      <td>cloudy</td>\n",
       "      <td>ghost_cutin</td>\n",
       "      <td>Completed</td>\n",
       "    </tr>\n",
       "    <tr>\n",
       "      <th>2</th>\n",
       "      <td>2</td>\n",
       "      <td>rain</td>\n",
       "      <td>ghost_cutin</td>\n",
       "      <td>Completed</td>\n",
       "    </tr>\n",
       "    <tr>\n",
       "      <th>3</th>\n",
       "      <td>3</td>\n",
       "      <td>snow</td>\n",
       "      <td>ghost_cutin</td>\n",
       "      <td>Completed</td>\n",
       "    </tr>\n",
       "    <tr>\n",
       "      <th>4</th>\n",
       "      <td>4</td>\n",
       "      <td>clear</td>\n",
       "      <td>ghost_cutin</td>\n",
       "      <td>Completed</td>\n",
       "    </tr>\n",
       "  </tbody>\n",
       "</table>\n",
       "</div>"
      ],
      "text/plain": [
       "   Unnamed: 0 weather     scenario     status\n",
       "0           0   clear  ghost_cutin  Completed\n",
       "1           1  cloudy  ghost_cutin  Completed\n",
       "2           2    rain  ghost_cutin  Completed\n",
       "3           3    snow  ghost_cutin  Completed\n",
       "4           4   clear  ghost_cutin  Completed"
      ]
     },
     "execution_count": 3,
     "metadata": {},
     "output_type": "execute_result"
    }
   ],
   "source": [
    "df.head() # show the first 5 rows"
   ]
  },
  {
   "cell_type": "code",
   "execution_count": 15,
   "metadata": {},
   "outputs": [
    {
     "data": {
      "text/plain": [
       "snow      500\n",
       "cloudy    500\n",
       "clear     500\n",
       "rain      500\n",
       "Name: weather, dtype: int64"
      ]
     },
     "execution_count": 15,
     "metadata": {},
     "output_type": "execute_result"
    }
   ],
   "source": [
    "df['weather'].value_counts() # count the number of each weather type"
   ]
  },
  {
   "cell_type": "code",
   "execution_count": 16,
   "metadata": {},
   "outputs": [
    {
     "data": {
      "text/plain": [
       "ghost_cutin    2000\n",
       "Name: scenario, dtype: int64"
      ]
     },
     "execution_count": 16,
     "metadata": {},
     "output_type": "execute_result"
    }
   ],
   "source": [
    "df['scenario'].value_counts() # count the number of each scenario type"
   ]
  },
  {
   "cell_type": "code",
   "execution_count": 17,
   "metadata": {},
   "outputs": [
    {
     "data": {
      "text/plain": [
       "Completed                      1802\n",
       "Failed -- Accident              178\n",
       "Failed -- Simulator crashed      20\n",
       "Name: status, dtype: int64"
      ]
     },
     "execution_count": 17,
     "metadata": {},
     "output_type": "execute_result"
    }
   ],
   "source": [
    "df['status'].value_counts() # count the number of each status type"
   ]
  },
  {
   "cell_type": "markdown",
   "metadata": {},
   "source": [
    "## Task 4"
   ]
  },
  {
   "cell_type": "markdown",
   "metadata": {},
   "source": [
    "### 1. Parse the provided Carla simulation dataset and calculate the following probabilities for the cut-in scenario (you need to filter our invalid data points before doing the analysis)"
   ]
  },
  {
   "cell_type": "markdown",
   "metadata": {},
   "source": [
    "#### a. The probability of accident P(acc=1) across all weather conditions."
   ]
  },
  {
   "cell_type": "code",
   "execution_count": 18,
   "metadata": {},
   "outputs": [
    {
     "name": "stdout",
     "output_type": "stream",
     "text": [
      "The probability of accident is 0.08990\n"
     ]
    }
   ],
   "source": [
    "df_valid = df[df['status'] != 'Failed -- Simulator crashed'] # filter out the valid data\n",
    "\n",
    "total_accident = df_valid[df_valid['status'] == 'Failed -- Accident'].shape[0] # filter out the accident data\n",
    "total = df_valid.shape[0] # total number of valid data\n",
    "\n",
    "prob_accident = total_accident / total # calculate the probability of accident\n",
    "\n",
    "print(f\"The probability of accident is {prob_accident:.5f}\")"
   ]
  },
  {
   "cell_type": "markdown",
   "metadata": {},
   "source": [
    "#### b. The probability of an accident conditioned on the weather, P(acc=1 | weather=?), for each weather condition."
   ]
  },
  {
   "cell_type": "markdown",
   "metadata": {},
   "source": [
    "For weather = snow:"
   ]
  },
  {
   "cell_type": "code",
   "execution_count": 19,
   "metadata": {},
   "outputs": [
    {
     "name": "stdout",
     "output_type": "stream",
     "text": [
      "The probability of accident in snow is 0.18310\n"
     ]
    }
   ],
   "source": [
    "df_snow = df_valid[df_valid['weather'] == 'snow'] # filter out the snow data\n",
    "\n",
    "total_accident_snow = df_snow[df_snow['status'] == 'Failed -- Accident'].shape[0] # filter out the accident data in snow\n",
    "total_snow = df_snow.shape[0] # total number of snow data\n",
    "\n",
    "prob_accident_snow = total_accident_snow / total_snow # calculate the probability of accident in snow\n",
    "\n",
    "print(f\"The probability of accident in snow is {prob_accident_snow:.5f}\")"
   ]
  },
  {
   "cell_type": "markdown",
   "metadata": {},
   "source": [
    "For weather = cloudy:"
   ]
  },
  {
   "cell_type": "code",
   "execution_count": 20,
   "metadata": {},
   "outputs": [
    {
     "name": "stdout",
     "output_type": "stream",
     "text": [
      "The probability of accident in cloudy is 0.04251\n"
     ]
    }
   ],
   "source": [
    "df_cloudy = df_valid[df_valid['weather'] == 'cloudy'] # filter out the cloudy data\n",
    "\n",
    "total_accident_cloudy = df_cloudy[df_cloudy['status'] == 'Failed -- Accident'].shape[0] # filter out the accident data in cloudy\n",
    "total_cloudy = df_cloudy.shape[0] # total number of cloudy data\n",
    "\n",
    "prob_accident_cloudy = total_accident_cloudy / total_cloudy # calculate the probability of accident in cloudy\n",
    "\n",
    "print(f\"The probability of accident in cloudy is {prob_accident_cloudy:.5f}\")"
   ]
  },
  {
   "cell_type": "markdown",
   "metadata": {},
   "source": [
    "For weather = clear:"
   ]
  },
  {
   "cell_type": "code",
   "execution_count": 21,
   "metadata": {},
   "outputs": [
    {
     "name": "stdout",
     "output_type": "stream",
     "text": [
      "The probability of accident in clear is 0.00813\n"
     ]
    }
   ],
   "source": [
    "df_clear = df_valid[df_valid['weather'] == 'clear'] # filter out the clear data\n",
    "\n",
    "total_accident_clear = df_clear[df_clear['status'] == 'Failed -- Accident'].shape[0] # filter out the accident data in clear\n",
    "total_clear = df_clear.shape[0] # total number of clear data\n",
    "\n",
    "prob_accident_clear = total_accident_clear / total_clear # calculate the probability of accident in clear\n",
    "\n",
    "print(f\"The probability of accident in clear is {prob_accident_clear:.5f}\")"
   ]
  },
  {
   "cell_type": "markdown",
   "metadata": {},
   "source": [
    "For weather = rain:"
   ]
  },
  {
   "cell_type": "code",
   "execution_count": 22,
   "metadata": {},
   "outputs": [
    {
     "name": "stdout",
     "output_type": "stream",
     "text": [
      "The probability of accident in rain is 0.12475\n"
     ]
    }
   ],
   "source": [
    "df_rain = df_valid[df_valid['weather'] == 'rain'] # filter out the rain data\n",
    "\n",
    "total_accident_rain = df_rain[df_rain['status'] == 'Failed -- Accident'].shape[0] # filter out the accident data in rain\n",
    "total_rain = df_rain.shape[0] # total number of rain data\n",
    "\n",
    "prob_accident_rain = total_accident_rain / total_rain # calculate the probability of accident in rain\n",
    "\n",
    "print(f\"The probability of accident in rain is {prob_accident_rain:.5f}\")"
   ]
  },
  {
   "cell_type": "markdown",
   "metadata": {},
   "source": [
    "### 2. The baseline simulated dataset contains accident information for snowy conditions and rainy conditions. In California it is sunny 80% of the time, rainy 5% of the time, snowy 2% of the time and cloudy the rest of the time. In Chicago, it is sunny 60% of the time, it rains 15% and it is snowy 20% of the time, and cloudy the rest of the time. Calculate the probability of an accident in the cut-in scenario for California and Chicago, respectively. Clearly state your assumptions and method."
   ]
  },
  {
   "cell_type": "markdown",
   "metadata": {},
   "source": [
    "We assume that the probability of an accident for each weather condition in both California and Chicago follows the same values as calculated from the simulation dataset.\n",
    "\n",
    "We use the law of total probability"
   ]
  },
  {
   "cell_type": "markdown",
   "metadata": {},
   "source": [
    "The probability of an accident in each location is given by the weighted sum of the conditional probabilities of an accident for each weather condition:\n",
    "\n",
    "$$P(accident)=P(weather = clear) \\times P(accident∣clear)+P(weather = cloudy) \\times P(accident∣cloudy)+P(weather = rain)\n",
    "\n",
    "\\\\ \\times P(accident∣rain)+P(weather = snow) \\times P(accident∣snow)$$"
   ]
  },
  {
   "cell_type": "code",
   "execution_count": 23,
   "metadata": {},
   "outputs": [
    {
     "name": "stdout",
     "output_type": "stream",
     "text": [
      "The probability of accident in California is 0.02193\n"
     ]
    }
   ],
   "source": [
    "prob_cali_clear = 0.8\n",
    "prob_cali_rain = 0.05\n",
    "prob_cali_snow = 0.02\n",
    "prob_cali_cloudy = 0.13\n",
    "\n",
    "prob_accident_cali = prob_cali_clear * prob_accident_clear + prob_cali_rain * prob_accident_rain + prob_cali_snow * prob_accident_snow + prob_cali_cloudy * prob_accident_cloudy\n",
    "print(f\"The probability of accident in California is {prob_accident_cali:.5f}\")"
   ]
  },
  {
   "cell_type": "code",
   "execution_count": 25,
   "metadata": {},
   "outputs": [
    {
     "name": "stdout",
     "output_type": "stream",
     "text": [
      "The probability of accident in Chicago is 0.06234\n"
     ]
    }
   ],
   "source": [
    "prob_chicago_clear = 0.6\n",
    "prob_chicago_rain = 0.15\n",
    "prob_chicago_snow = 0.2\n",
    "prob_chicago_cloudy = 0.05\n",
    "\n",
    "prob_accident_chicago = prob_chicago_clear * prob_accident_clear + prob_chicago_rain * prob_accident_rain + prob_chicago_snow * prob_accident_snow + prob_chicago_cloudy * prob_accident_cloudy\n",
    "print(f\"The probability of accident in Chicago is {prob_accident_chicago:.5f}\")\n"
   ]
  },
  {
   "cell_type": "markdown",
   "metadata": {},
   "source": [
    "### 3. In Part 2, Task 3.4, you calculated the AV’s probability of an accident per mile for the California DMV dataset. Suppose you want to compare the simulated accident rate with the real dataset accident rate."
   ]
  },
  {
   "cell_type": "markdown",
   "metadata": {},
   "source": [
    "#### a. Unfortunately, the real DMV only has sunny and cloudy weather:"
   ]
  },
  {
   "cell_type": "markdown",
   "metadata": {},
   "source": [
    "##### i. How would you make a reasonable comparison between the probability of an accident of the simulated dataset and the real dataset in this case?"
   ]
  },
  {
   "cell_type": "markdown",
   "metadata": {},
   "source": [
    "To make a reasonable comparison, we need to use only clear and cloudy weather in simulated data for comparison. We need to align the probabilities for the two datasets as much as possible."
   ]
  },
  {
   "cell_type": "markdown",
   "metadata": {},
   "source": [
    "##### ii. Compare the two probabilities and report your findings."
   ]
  },
  {
   "cell_type": "markdown",
   "metadata": {},
   "source": [
    "From the calculation in 1, we already know the conditional probabilities of an accident in clear and cloudy conditions from the simulation dataset:\n",
    "\n",
    "$$P(accident|clear)=0.00813$$\n",
    "$$P(accident|cloudy)=0.0425$$\n",
    "\n",
    "And from our Task 3.4 answer, the probability of an accident per mile for clear and cloudy conditions due to AV disengagement and slow reaction is:\n",
    "\n",
    "$$P(accident per mile∣cloudy)=0.00281 \\times 0.612=0.00172$$\n",
    "\n",
    "$$P(accident per mile∣clear)=0.00026 \\times 0.385=0.00010$$\n",
    "\n",
    "And the probability of an accident per mile for the real dataset (using only cloudy and clear weather) is:\n",
    "\n",
    "$$ P(accident per mile, real)=(0.00172 \\times 0.28)+(0.00010 \\times 0.72)=0.0005536$$\n",
    "\n",
    "To compare with the real dataset, we'll compute the overall accident probability for the clear and cloudy weather conditions in the simulated dataset using the same weather distribution:\n",
    "\n",
    "$$ P(accident, simulated)=(0.0425 \\times 0.13)+(0.0081 \\times 0.8)= 0.012005$$\n",
    "\n",
    "Therefore, we find that the simulated accident rate (0.012005) is significantly higher than the real dataset rate (0.0005536)."
   ]
  },
  {
   "cell_type": "markdown",
   "metadata": {},
   "source": [
    "#### b. Suppose that there are k cut-in scenarios per one mile, and the probability of having an accident in one cut-in scenario is p. What is the probability to have at least one accident per one mile? State your reasoning in detail."
   ]
  },
  {
   "cell_type": "markdown",
   "metadata": {},
   "source": [
    "1. The probability that no accident occurs in one cut-in scenarios is $P(no-accident)=1-P(accident)=1-p$\n",
    "\n",
    "2. Because the events are independent, so the probability of no accident in $k$ scenarios is the product of the probabilities of no accident in each scenario. Therefore, the probability that no accident occurs in any of the $k$ cut-in scenarios is $P(all-no-accident)=(1-p) \\cdot (1-p) \\cdot ... \\cdot (1-p) = (1-p)^k$\n",
    "\n",
    "3. The probability of having at least one accident in one mile is the complement of having no accident in all $k$ scenarios: $P(at-least-one-accident)=1-P(no-accident)=1-(1-p)^k$\n",
    "\n",
    "Therefore, the probability of having at least one accident per one mile given that there are $k$ cut-in scenarios per one mile is:\n",
    "\n",
    "$$ P(at-least-one-accident)=1-(1-p)^k$$"
   ]
  },
  {
   "cell_type": "markdown",
   "metadata": {},
   "source": [
    "#### c. Why do you think the probabilities of accident are so different between the simulation and the real-world data? "
   ]
  },
  {
   "cell_type": "markdown",
   "metadata": {},
   "source": [
    "1. Simulations in Carla often simplify the environment. Real-world situations (e.g., driver behavior, roadway complexity, pedestrian unpredictability) are much more complex. Simulations may focus on specific scenarios (e.g., queue-jumping scenarios), which may lead to over-representation of accidents under specific conditions.\n",
    "\n",
    "2. Simulations are often designed to test extreme situations that are more likely to cause accidents (e.g., extreme weather conditions, aggressive queue jumping). This can lead to a high probability of accidents because the simulated scenarios are designed to push the limits of the system.\n",
    "\n",
    "3. In the real world, humans often take evasive actions (e.g., braking or swerving) to prevent accidents, even in dangerous situations like cutting in line. Simulations may not be able to adequately model the range of human reactions, especially rapid or anticipatory actions, leading to a higher probability of accidents in the simulation."
   ]
  },
  {
   "cell_type": "markdown",
   "metadata": {},
   "source": [
    "#### d. What are the pros and cons of the simulation data given the discrepancy between probability of accident in simulation and the real-world data? "
   ]
  },
  {
   "cell_type": "markdown",
   "metadata": {},
   "source": [
    "### Pros of Simulation Data: ###\n",
    "\n",
    "1. The simulation allows for testing a wide range of scenarios in a controlled and repeatable way, which helps in analyzing edge cases that may not frequently occur in the real world.\n",
    "\n",
    "2. Running simulations is much safer and more cost-effective compared to testing autonomous vehicles in real-world environments. It avoids the risk of accidents involving real drivers and pedestrians.\n",
    "\n",
    "3. Simulation data allows a detailed breakdown of the influence of different factors on accident probabilities, which is harder to isolate in real-world data.\n",
    "\n",
    "### Cons of Simulation Data: ###\n",
    "\n",
    "1. The primary disadvantage of simulation data is that it may not accurately reflect the real-world dynamics. Simulations are often simplified versions of the real world, and their assumptions may lead to discrepancies. \n",
    "\n",
    "2. There are many situations that may occur in real driving, and we cannot take all of them into account in the simulation data."
   ]
  },
  {
   "cell_type": "markdown",
   "metadata": {},
   "source": [
    
